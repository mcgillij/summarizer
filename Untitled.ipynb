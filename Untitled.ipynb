{
 "cells": [
  {
   "cell_type": "code",
   "execution_count": null,
   "id": "f450f9d7",
   "metadata": {},
   "outputs": [
    {
     "data": {
      "text/plain": [
       "['AttributeRuler',\n",
       " 'DependencyParser',\n",
       " 'EditTreeLemmatizer',\n",
       " 'EntityLinker',\n",
       " 'EntityRecognizer',\n",
       " 'EntityRuler',\n",
       " 'Lemmatizer',\n",
       " 'Morphologizer',\n",
       " 'MultiLabel_TextCategorizer',\n",
       " 'Pipe',\n",
       " 'SentenceRecognizer',\n",
       " 'Sentencizer',\n",
       " 'SpanCategorizer',\n",
       " 'SpanRuler',\n",
       " 'Tagger',\n",
       " 'TextCategorizer',\n",
       " 'Tok2Vec',\n",
       " 'TrainablePipe',\n",
       " '__all__',\n",
       " '__builtins__',\n",
       " '__cached__',\n",
       " '__doc__',\n",
       " '__file__',\n",
       " '__loader__',\n",
       " '__name__',\n",
       " '__package__',\n",
       " '__path__',\n",
       " '__spec__',\n",
       " '_edit_tree_internals',\n",
       " '_parser_internals',\n",
       " 'attributeruler',\n",
       " 'dep_parser',\n",
       " 'edit_tree_lemmatizer',\n",
       " 'entity_linker',\n",
       " 'entityruler',\n",
       " 'functions',\n",
       " 'legacy',\n",
       " 'lemmatizer',\n",
       " 'merge_entities',\n",
       " 'merge_noun_chunks',\n",
       " 'merge_subtokens',\n",
       " 'morphologizer',\n",
       " 'ner',\n",
       " 'pipe',\n",
       " 'sentencizer',\n",
       " 'senter',\n",
       " 'span_ruler',\n",
       " 'spancat',\n",
       " 'tagger',\n",
       " 'textcat',\n",
       " 'textcat_multilabel',\n",
       " 'tok2vec',\n",
       " 'trainable_pipe',\n",
       " 'transition_parser']"
      ]
     },
     "execution_count": null,
     "metadata": {},
     "output_type": "execute_result"
    }
   ],
   "source": [
    "dir(spacy.pipeline)\n"
   ]
  },
  {
   "cell_type": "code",
   "execution_count": null,
   "id": "26ebe048",
   "metadata": {},
   "outputs": [],
   "source": []
  }
 ],
 "metadata": {
  "kernelspec": {
   "display_name": "Python 3 (ipykernel)",
   "language": "python",
   "name": "python3"
  }
 },
 "nbformat": 4,
 "nbformat_minor": 5
}
