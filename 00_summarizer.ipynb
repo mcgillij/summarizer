{
 "cells": [
  {
   "cell_type": "code",
   "execution_count": null,
   "metadata": {},
   "outputs": [],
   "source": [
    "#| default_exp summarizer"
   ]
  },
  {
   "cell_type": "markdown",
   "metadata": {},
   "source": [
    "# SUMMARIZER\n",
    "\n",
    "> API details."
   ]
  },
  {
   "cell_type": "code",
   "execution_count": null,
   "metadata": {},
   "outputs": [],
   "source": [
    "#|hide\n",
    "from nbdev.showdoc import *"
   ]
  },
  {
   "cell_type": "code",
   "execution_count": null,
   "metadata": {},
   "outputs": [],
   "source": [
    "import spacy\n",
    "from spacy.lang.en.stop_words import STOP_WORDS\n",
    "from string import punctuation\n",
    "from collections import Counter\n",
    "from heapq import nlargest"
   ]
  },
  {
   "cell_type": "markdown",
   "metadata": {},
   "source": [
    "You need to download the language core prior to running this"
   ]
  },
  {
   "cell_type": "code",
   "execution_count": null,
   "metadata": {},
   "outputs": [],
   "source": [
    "#nlp = spacy.load('en_core_web_trf')\n",
    "nlp = spacy.load('en_core_web_sm')"
   ]
  },
  {
   "cell_type": "markdown",
   "metadata": {},
   "source": [
    "load a sample document"
   ]
  },
  {
   "cell_type": "code",
   "execution_count": null,
   "metadata": {},
   "outputs": [],
   "source": [
    "#with open('rofi-twitch.rst', 'r') as f:\n",
    "#    doc = nlp(f.read())\n",
    "\n",
    "text = \"\"\"\n",
    "I would guess not.\n",
    "\n",
    "to me, the \"libertarian hacker\" de facto standard peaked in the mid 00s, when everyone was enthusiastic about the Internet and Ron Paul and Larry Lessig and Information Wanting To Be Free and 09F9 and BitTorrent. then social media happened and now the Pauls are evil Republicans just like the rest of em, free speech is dangerous and should be restricted and limited on all platforms at all costs, and identity politics (of all flavors) are more important than everyone being a pseudonymous handle on the Internet, treated equally by default. there used to be this feeling that the future of the Internet was just going to be fuckin awesome because it would connect people in this crazy libertarianesque online network of computers, and what could come of that but societal advancement, increased creative output, and a general world-improving fair and equal exchange of ideas?\n",
    "\n",
    "I rarely, if ever, see any of that kind of idealism anymore, both in theory and in practice, and I miss it dearly. \n",
    "\"\"\"\n",
    "\n",
    "doc2 = nlp(text)\n",
    "\n",
    "text2 = \"\"\"On the day that the tax was announced, share prices fell by 2.2%. But there was leakage of information prior to the announcement, which might explain the 5.35% price decline in the 30 days prior to the announcement. When the tax was doubled, prices again fell by another 1%. These declines were in line with the capitalized value of future tax payments resulting from expected trades. It was further felt that the taxes on fixed-income securities only served to increase the cost of government borrowing, providing another argument against the tax.[1]\n",
    "\n",
    "Even though the tax on fixed-income securities was much lower than that on equities, the impact on market trading was much more dramatic. During the first week of the tax, the volume of bond trading fell by 85%, even though the tax rate on five-year bonds was only 0.003%. The volume of futures trading fell by 98% and the options trading market disappeared.[1] 60% of the trading volume of the eleven most actively traded Swedish share classes moved to the UK after the announcement in 1986 that the tax rate would double. 30% of all Swedish equity trading moved offshore. By 1990, more than 50% of all Swedish trading had moved to London. Foreign investors reacted to the tax by moving their trading offshore while domestic investors reacted by reducing the number of their equity trades.[2] According to Anders Borg who served as finance minister in the Swedish government from 2006 to 2014, \"between 90%-99% of traders in bonds, equities and derivatives moved out of Stockholm to London.\"\"\"\n",
    "doc = nlp(text2)"
   ]
  },
  {
   "cell_type": "markdown",
   "metadata": {},
   "source": [
    "Check the number sentences."
   ]
  },
  {
   "cell_type": "code",
   "execution_count": null,
   "metadata": {},
   "outputs": [
    {
     "data": {
      "text/plain": [
       "11"
      ]
     },
     "execution_count": null,
     "metadata": {},
     "output_type": "execute_result"
    }
   ],
   "source": [
    "len(list(doc.sents))"
   ]
  },
  {
   "cell_type": "markdown",
   "metadata": {},
   "source": [
    "Filter tokens"
   ]
  },
  {
   "cell_type": "code",
   "execution_count": null,
   "metadata": {},
   "outputs": [],
   "source": [
    "keyword = list()\n",
    "stopwords = list(STOP_WORDS)\n",
    "pos_tag = ['PROPN', 'ADJ', 'NOUN', 'VERB']\n",
    "for token in doc:\n",
    "    if(token.text in stopwords or token.text in punctuation):\n",
    "        continue\n",
    "    if(token.pos_ in pos_tag):\n",
    "        keyword.append(token.text)"
   ]
  },
  {
   "cell_type": "markdown",
   "metadata": {},
   "source": [
    "Calculate the frequency"
   ]
  },
  {
   "cell_type": "code",
   "execution_count": null,
   "metadata": {},
   "outputs": [
    {
     "data": {
      "text/plain": [
       "[('tax', 8), ('trading', 8), ('fell', 4), ('Swedish', 4), ('moved', 4)]"
      ]
     },
     "execution_count": null,
     "metadata": {},
     "output_type": "execute_result"
    }
   ],
   "source": [
    "freq_word = Counter(keyword)\n",
    "freq_word.most_common(5)  # top 5"
   ]
  },
  {
   "cell_type": "markdown",
   "metadata": {},
   "source": [
    "Normalization"
   ]
  },
  {
   "cell_type": "code",
   "execution_count": null,
   "metadata": {},
   "outputs": [
    {
     "data": {
      "text/plain": [
       "[('tax', 1.0),\n",
       " ('trading', 1.0),\n",
       " ('fell', 0.5),\n",
       " ('Swedish', 0.5),\n",
       " ('moved', 0.5)]"
      ]
     },
     "execution_count": null,
     "metadata": {},
     "output_type": "execute_result"
    }
   ],
   "source": [
    "max_freq = Counter(keyword).most_common(1)[0][1]\n",
    "for word in freq_word.keys():\n",
    "    freq_word[word] = (freq_word[word]/max_freq)\n",
    "freq_word.most_common(5)"
   ]
  },
  {
   "cell_type": "markdown",
   "metadata": {},
   "source": [
    "score the sentences"
   ]
  },
  {
   "cell_type": "code",
   "execution_count": null,
   "metadata": {},
   "outputs": [
    {
     "data": {
      "text/plain": [
       "{On the day that the tax was announced, share prices fell by 2.2%.: 2.25,\n",
       " But there was leakage of information prior to the announcement, which might explain the 5.35% price decline in the 30 days prior to the announcement.: 1.5,\n",
       " When the tax was doubled, prices again fell by another 1%.: 1.875,\n",
       " These declines were in line with the capitalized value of future tax payments resulting from expected trades.: 2.125,\n",
       " It was further felt that the taxes on fixed-income securities only served to increase the cost of government borrowing, providing another argument against the tax.[1]\n",
       " \n",
       " Even though the tax on fixed-income securities was much lower than that on equities, the impact on market trading was much more dramatic.: 5.875,\n",
       " During the first week of the tax, the volume of bond trading fell by 85%, even though the tax rate on five-year bonds was only 0.003%.: 4.75,\n",
       " The volume of futures trading fell by 98% and the options trading market disappeared.[1] 60% of the trading volume of the eleven most actively traded Swedish share classes moved to the UK after the announcement in 1986 that the tax rate would double.: 8.25,\n",
       " 30% of all Swedish equity trading moved offshore.: 2.25,\n",
       " By 1990, more than 50% of all Swedish trading had moved to London.: 2.25,\n",
       " Foreign investors reacted to the tax by moving their trading offshore while domestic investors reacted by reducing the number of their equity trades.[2]: 4.0,\n",
       " According to Anders Borg who served as finance minister in the Swedish government from 2006 to 2014, \"between 90%-99% of traders in bonds, equities and derivatives moved out of Stockholm to London.: 3.25}"
      ]
     },
     "execution_count": null,
     "metadata": {},
     "output_type": "execute_result"
    }
   ],
   "source": [
    "sent_strength = dict()\n",
    "for sent in doc.sents:\n",
    "    for word in sent:\n",
    "        if word.text in freq_word.keys():\n",
    "            if sent in sent_strength.keys():\n",
    "                sent_strength[sent] += freq_word[word.text]\n",
    "            else:\n",
    "                sent_strength[sent] = freq_word[word.text]\n",
    "sent_strength"
   ]
  },
  {
   "cell_type": "markdown",
   "metadata": {},
   "source": [
    "Summarize with nlargest"
   ]
  },
  {
   "cell_type": "code",
   "execution_count": null,
   "metadata": {},
   "outputs": [
    {
     "data": {
      "text/plain": [
       "[The volume of futures trading fell by 98% and the options trading market disappeared.[1] 60% of the trading volume of the eleven most actively traded Swedish share classes moved to the UK after the announcement in 1986 that the tax rate would double.,\n",
       " It was further felt that the taxes on fixed-income securities only served to increase the cost of government borrowing, providing another argument against the tax.[1]\n",
       " \n",
       " Even though the tax on fixed-income securities was much lower than that on equities, the impact on market trading was much more dramatic.,\n",
       " During the first week of the tax, the volume of bond trading fell by 85%, even though the tax rate on five-year bonds was only 0.003%.]"
      ]
     },
     "execution_count": null,
     "metadata": {},
     "output_type": "execute_result"
    }
   ],
   "source": [
    "summarized_sentences = nlargest(3, sent_strength, key=sent_strength.get)\n",
    "summarized_sentences"
   ]
  },
  {
   "cell_type": "code",
   "execution_count": null,
   "metadata": {},
   "outputs": [
    {
     "data": {
      "text/plain": [
       "'The volume of futures trading fell by 98% and the options trading market disappeared.[1] 60% of the trading volume of the eleven most actively traded Swedish share classes moved to the UK after the announcement in 1986 that the tax rate would double. It was further felt that the taxes on fixed-income securities only served to increase the cost of government borrowing, providing another argument against the tax.[1]\\n\\nEven though the tax on fixed-income securities was much lower than that on equities, the impact on market trading was much more dramatic. During the first week of the tax, the volume of bond trading fell by 85%, even though the tax rate on five-year bonds was only 0.003%.'"
      ]
     },
     "execution_count": null,
     "metadata": {},
     "output_type": "execute_result"
    }
   ],
   "source": [
    "final_sentences = [ w.text for w in summarized_sentences ]\n",
    "summary = ' '.join(final_sentences)\n",
    "summary"
   ]
  },
  {
   "cell_type": "code",
   "execution_count": null,
   "metadata": {},
   "outputs": [],
   "source": []
  },
  {
   "cell_type": "code",
   "execution_count": null,
   "metadata": {},
   "outputs": [],
   "source": []
  }
 ],
 "metadata": {
  "kernelspec": {
   "display_name": "Python 3 (ipykernel)",
   "language": "python",
   "name": "python3"
  }
 },
 "nbformat": 4,
 "nbformat_minor": 4
}
